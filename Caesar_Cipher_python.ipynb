{
  "nbformat": 4,
  "nbformat_minor": 0,
  "metadata": {
    "colab": {
      "provenance": [],
      "authorship_tag": "ABX9TyOB/wi4VxgIwAJEkHrR4dbd",
      "include_colab_link": true
    },
    "kernelspec": {
      "name": "python3",
      "display_name": "Python 3"
    },
    "language_info": {
      "name": "python"
    }
  },
  "cells": [
    {
      "cell_type": "markdown",
      "metadata": {
        "id": "view-in-github",
        "colab_type": "text"
      },
      "source": [
        "<a href=\"https://colab.research.google.com/github/namratabiswas/100DaysOfPython/blob/main/Caesar_Cipher_python.ipynb\" target=\"_parent\"><img src=\"https://colab.research.google.com/assets/colab-badge.svg\" alt=\"Open In Colab\"/></a>"
      ]
    },
    {
      "cell_type": "code",
      "execution_count": 37,
      "metadata": {
        "colab": {
          "base_uri": "https://localhost:8080/"
        },
        "id": "I1nzoErr8I-F",
        "outputId": "da6ab09b-2f73-4de7-e7dc-38789f628c77"
      },
      "outputs": [
        {
          "name": "stdout",
          "output_type": "stream",
          "text": [
            "Type 'encode' to encrypt, type 'decode' to decrypt:\n",
            "encode\n",
            "Type your message:\n",
            "hello\n",
            "Type the shift number:\n",
            "2\n",
            "jgnnq\n",
            "Above is your encoded message:\n",
            "Type 'encode' to encrypt, type 'decode' to decrypt:\n",
            "decode\n",
            "Type your message:\n",
            "jugni\n",
            "Type the shift number:\n",
            "2\n",
            "hselg\n",
            "Above is your decoded message:\n",
            "Type 'yes' if you want to go again. Otherwise type 'no'.\n",
            "no\n"
          ]
        }
      ],
      "source": [
        "alphabet = ['a', 'b', 'c', 'd', 'e', 'f', 'g', 'h', 'i', 'j', 'k', 'l', 'm', 'n', 'o', 'p', 'q', 'r', 's', 't', 'u', 'v', 'w', 'x', 'y', 'z']\n",
        "direction = input(\"Type 'encode' to encrypt, type 'decode' to decrypt:\\n\").lower()\n",
        "text = input(\"Type your message:\\n\").lower()\n",
        "shift = int(input(\"Type the shift number:\\n\"))\n",
        "\n",
        "\n",
        "def encrypt(original_text, shift_amount):\n",
        "  cipher_text = ''\n",
        "  original_text_lower = original_text.lower()\n",
        "  original_text_split = [x for x in original_text_lower]\n",
        "  #print(original_text_split)\n",
        "  for i in original_text_split:\n",
        "    if i in alphabet:\n",
        "      idx = alphabet.index(i)\n",
        "      new_index = idx + shift_amount\n",
        "      new_index %= len(alphabet)\n",
        "      cipher_text += alphabet[new_index]\n",
        "  print(cipher_text)\n",
        "\n",
        "\n",
        "#encrypt(original_text = text,shift_amount = shift)\n",
        "\n",
        "def decrypt(original_text, shift_amount):\n",
        "  cipher_text = ''\n",
        "  original_text_lower = original_text.lower()\n",
        "  original_text_split = [x for x in original_text_lower]\n",
        "  #print(original_text_split)\n",
        "  for i in original_text_split:\n",
        "    if i in alphabet:\n",
        "      idx = alphabet.index(i)\n",
        "      new_index = idx - shift_amount\n",
        "      new_index %= len(alphabet)\n",
        "      cipher_text += alphabet[new_index]\n",
        "  print(cipher_text)\n",
        "\n",
        "#decrypt(original_text = text,shift_amount = shift)\n",
        "\n",
        "def caesar_cipher(direct):\n",
        "  if direct == 'encode':\n",
        "    encrypt(original_text = text,shift_amount = shift)\n",
        "  else:\n",
        "    decrypt(original_text = text,shift_amount = shift)\n",
        "  print(f\"Above is your {direct}d message:\")\n",
        "\n",
        "caesar_cipher(direct = direction)\n",
        "\n",
        "should_continue = True\n",
        "\n",
        "while should_continue:\n",
        "    direction = input(\"Type 'encode' to encrypt, type 'decode' to decrypt:\\n\").lower()\n",
        "    text = input(\"Type your message:\\n\").lower()\n",
        "    shift = int(input(\"Type the shift number:\\n\"))\n",
        "\n",
        "    caesar_cipher(direct=direction)\n",
        "    should_continue = input(\"Type 'yes' if you want to go again. Otherwise type 'no'.\\n\").lower()\n",
        "\n",
        "    if should_continue=='no':\n",
        "        should_continue=False"
      ]
    },
    {
      "cell_type": "code",
      "source": [],
      "metadata": {
        "id": "WUxEnRjE9y1p"
      },
      "execution_count": null,
      "outputs": []
    },
    {
      "cell_type": "code",
      "source": [],
      "metadata": {
        "id": "efzPIhqkNRLI"
      },
      "execution_count": null,
      "outputs": []
    }
  ]
}