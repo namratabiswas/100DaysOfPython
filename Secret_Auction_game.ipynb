{
  "nbformat": 4,
  "nbformat_minor": 0,
  "metadata": {
    "colab": {
      "provenance": [],
      "authorship_tag": "ABX9TyNLnylOARK2skoC+k08BkMJ",
      "include_colab_link": true
    },
    "kernelspec": {
      "name": "python3",
      "display_name": "Python 3"
    },
    "language_info": {
      "name": "python"
    }
  },
  "cells": [
    {
      "cell_type": "markdown",
      "metadata": {
        "id": "view-in-github",
        "colab_type": "text"
      },
      "source": [
        "<a href=\"https://colab.research.google.com/github/namratabiswas/100DaysOfPython/blob/main/Secret_Auction_game.ipynb\" target=\"_parent\"><img src=\"https://colab.research.google.com/assets/colab-badge.svg\" alt=\"Open In Colab\"/></a>"
      ]
    },
    {
      "cell_type": "code",
      "execution_count": 14,
      "metadata": {
        "collapsed": true,
        "id": "EnpHkJCOYoxO"
      },
      "outputs": [],
      "source": []
    },
    {
      "cell_type": "markdown",
      "source": [
        "This game asks the user for their name and amount they want to bid, It stores the values in a dictionary and when all the players have entered their bids, the program calculates the highest bidder with their amount and prints that out"
      ],
      "metadata": {
        "id": "uureJ-trlq4j"
      }
    },
    {
      "cell_type": "code",
      "source": [
        "def highest_bidder(bidding_dict):\n",
        "  winner = ''\n",
        "  highest_amount = 0\n",
        "  for bidders in bidding_dict:\n",
        "    bid_amount = bidding_dict[bidders]\n",
        "    if bid_amount > highest_amount:\n",
        "      highest_amount = bid_amount\n",
        "      winner = bidders\n",
        "  print(f\"Our Highest Bidders is {winner} with an amount of ${highest_amount}\")\n"
      ],
      "metadata": {
        "id": "FknQwv_fZTzb"
      },
      "execution_count": 15,
      "outputs": []
    },
    {
      "cell_type": "code",
      "source": [
        "bidders_log = {}\n",
        "should_continue = True\n",
        "while should_continue:\n",
        "  name = input(\"What is your name?: \")\n",
        "  price = int(input(\"What is your bid?: $\"))\n",
        "  bidders_log[name] = price\n",
        "  other_bidders = input(\"Do you have any other bidders?: Types 'Yes or 'No'. \\n \").lower()\n",
        "  if other_bidders == 'no':\n",
        "    should_continue = False\n",
        "    highest_bidder(bidders_log)\n",
        "  elif other_bidders == 'yes':\n",
        "    print('\\n' * 50)"
      ],
      "metadata": {
        "id": "WECHcKLLgUM1"
      },
      "execution_count": 17,
      "outputs": []
    },
    {
      "cell_type": "code",
      "source": [
        "\n",
        "\n",
        "\n",
        "\n",
        "\n",
        "\n"
      ],
      "metadata": {
        "colab": {
          "base_uri": "https://localhost:8080/"
        },
        "id": "g_L61c4Vc9qb",
        "outputId": "bd6aec5b-fe11-48b7-95f7-7c135683da62"
      },
      "execution_count": 19,
      "outputs": [
        {
          "output_type": "stream",
          "name": "stdout",
          "text": [
            "What is your name?: Sree\n",
            "What is your bid?: $5\n",
            "Do you have any other bidders?: Types 'Yes or 'No'. \n",
            " YES\n",
            "\n",
            "\n",
            "\n",
            "\n",
            "\n",
            "\n",
            "\n",
            "\n",
            "\n",
            "\n",
            "\n",
            "\n",
            "\n",
            "\n",
            "\n",
            "\n",
            "\n",
            "\n",
            "\n",
            "\n",
            "\n",
            "\n",
            "\n",
            "\n",
            "\n",
            "\n",
            "\n",
            "\n",
            "\n",
            "\n",
            "\n",
            "\n",
            "\n",
            "\n",
            "\n",
            "\n",
            "\n",
            "\n",
            "\n",
            "\n",
            "\n",
            "\n",
            "\n",
            "\n",
            "\n",
            "\n",
            "\n",
            "\n",
            "\n",
            "\n",
            "\n",
            "What is your name?: gree\n",
            "What is your bid?: $10\n",
            "Do you have any other bidders?: Types 'Yes or 'No'. \n",
            " yes\n",
            "\n",
            "\n",
            "\n",
            "\n",
            "\n",
            "\n",
            "\n",
            "\n",
            "\n",
            "\n",
            "\n",
            "\n",
            "\n",
            "\n",
            "\n",
            "\n",
            "\n",
            "\n",
            "\n",
            "\n",
            "\n",
            "\n",
            "\n",
            "\n",
            "\n",
            "\n",
            "\n",
            "\n",
            "\n",
            "\n",
            "\n",
            "\n",
            "\n",
            "\n",
            "\n",
            "\n",
            "\n",
            "\n",
            "\n",
            "\n",
            "\n",
            "\n",
            "\n",
            "\n",
            "\n",
            "\n",
            "\n",
            "\n",
            "\n",
            "\n",
            "\n",
            "What is your name?: pree\n",
            "What is your bid?: $20\n",
            "Do you have any other bidders?: Types 'Yes or 'No'. \n",
            " no\n",
            "Our Highest Bidders is pree with an amount of $20\n"
          ]
        }
      ]
    },
    {
      "cell_type": "code",
      "source": [],
      "metadata": {
        "id": "fMwyJIFwic5z"
      },
      "execution_count": null,
      "outputs": []
    }
  ]
}