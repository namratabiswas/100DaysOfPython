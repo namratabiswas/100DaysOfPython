{
  "nbformat": 4,
  "nbformat_minor": 0,
  "metadata": {
    "colab": {
      "provenance": [],
      "authorship_tag": "ABX9TyOxbj2U+Yc+uiG3UGzerlc2",
      "include_colab_link": true
    },
    "kernelspec": {
      "name": "python3",
      "display_name": "Python 3"
    },
    "language_info": {
      "name": "python"
    }
  },
  "cells": [
    {
      "cell_type": "markdown",
      "metadata": {
        "id": "view-in-github",
        "colab_type": "text"
      },
      "source": [
        "<a href=\"https://colab.research.google.com/github/namratabiswas/100DaysOfPython/blob/main/Calculator_python.ipynb\" target=\"_parent\"><img src=\"https://colab.research.google.com/assets/colab-badge.svg\" alt=\"Open In Colab\"/></a>"
      ]
    },
    {
      "cell_type": "code",
      "execution_count": 11,
      "metadata": {
        "id": "bpbMB8iWe_3e"
      },
      "outputs": [],
      "source": []
    },
    {
      "cell_type": "markdown",
      "source": [],
      "metadata": {
        "id": "Qf0YMM3yfAtO"
      }
    },
    {
      "cell_type": "markdown",
      "source": [],
      "metadata": {
        "id": "_fRwj2Z0geoq"
      }
    },
    {
      "cell_type": "code",
      "source": [],
      "metadata": {
        "id": "6Bxi8LB8gdzg"
      },
      "execution_count": null,
      "outputs": []
    },
    {
      "cell_type": "code",
      "source": [
        "# add function\n",
        "def add(n1,n2):\n",
        "  return n1 + n2\n",
        "\n",
        "#subtract function\n",
        "def subtract(n1,n2):\n",
        "  return (n1-n2)\n",
        "\n",
        "#multiply function\n",
        "def multiply(n1,n2):\n",
        "  return n1*n2\n",
        "\n",
        "#divide function\n",
        "def divide(n1,n2):\n",
        "  return n1/n2\n"
      ],
      "metadata": {
        "colab": {
          "base_uri": "https://localhost:8080/"
        },
        "id": "xa-bQYqogqIp",
        "outputId": "6724ea9a-fbc3-46aa-8fc7-b8ad4c1e9502"
      },
      "execution_count": 8,
      "outputs": [
        {
          "output_type": "execute_result",
          "data": {
            "text/plain": [
              "32"
            ]
          },
          "metadata": {},
          "execution_count": 8
        }
      ]
    },
    {
      "cell_type": "code",
      "source": [
        "\n",
        "should_accumulate = True\n",
        "\n",
        "n1 = float(input(\"What is the first number? \"))\n",
        "\n",
        "while should_accumulate:\n",
        "  for symbol in operations:\n",
        "    print(symbol)\n",
        "  operator = input(\"Pick an operation do you want to perform? \")\n",
        "  n2 = float(input(\"what is the next number? \"))\n",
        "\n",
        "\n",
        "  operations = {'+': add,'-':subtract, '*':multiply, '/':divide}\n",
        "\n",
        "\n",
        "\n",
        "  answer = operations[operator](n1,n2)\n",
        "  print(f'{n1} {operator} {n2} = {answer}' )\n",
        "\n",
        "  round_two = input(f\"Type 'y' to continue with the previous number {answer} or type 'n' to start a new calculation\").lower()\n",
        "  #next_num = float(input(\"what is your next num? \"))\n",
        "\n",
        "  if round_two == 'y':\n",
        "    n1 = answer\n",
        "  else:\n",
        "    should_accumulate = False\n",
        "    print(\"Thank you for using our calculator\")\n",
        ""
      ],
      "metadata": {
        "colab": {
          "base_uri": "https://localhost:8080/"
        },
        "id": "tU9s2kovnqkF",
        "outputId": "96a8a087-2cfa-4df2-f4d6-0dbefee6c701"
      },
      "execution_count": 26,
      "outputs": [
        {
          "name": "stdout",
          "output_type": "stream",
          "text": [
            "What is the first number? 2\n",
            "+\n",
            "-\n",
            "*\n",
            "/\n",
            "Pick an operation do you want to perform? *\n",
            "what is the next number? 3\n",
            "2.0 * 3.0 = 6.0\n",
            "Type 'y' to continue with the previous number 6.0 or type 'n' to start a new calculationy\n",
            "+\n",
            "-\n",
            "*\n",
            "/\n",
            "Pick an operation do you want to perform? -\n",
            "what is the next number? 4\n",
            "6.0 - 4.0 = 2.0\n",
            "Type 'y' to continue with the previous number 2.0 or type 'n' to start a new calculationn\n"
          ]
        }
      ]
    },
    {
      "cell_type": "code",
      "source": [
        "()"
      ],
      "metadata": {
        "id": "eia9m0z2rJEp"
      },
      "execution_count": null,
      "outputs": []
    }
  ]
}