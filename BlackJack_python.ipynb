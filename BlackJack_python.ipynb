{
  "nbformat": 4,
  "nbformat_minor": 0,
  "metadata": {
    "colab": {
      "provenance": [],
      "authorship_tag": "ABX9TyMG3JwCz6smMmLRVpU1t224",
      "include_colab_link": true
    },
    "kernelspec": {
      "name": "python3",
      "display_name": "Python 3"
    },
    "language_info": {
      "name": "python"
    }
  },
  "cells": [
    {
      "cell_type": "markdown",
      "metadata": {
        "id": "view-in-github",
        "colab_type": "text"
      },
      "source": [
        "<a href=\"https://colab.research.google.com/github/namratabiswas/100DaysOfPython/blob/main/BlackJack_python.ipynb\" target=\"_parent\"><img src=\"https://colab.research.google.com/assets/colab-badge.svg\" alt=\"Open In Colab\"/></a>"
      ]
    },
    {
      "cell_type": "code",
      "execution_count": 2,
      "metadata": {
        "colab": {
          "base_uri": "https://localhost:8080/"
        },
        "id": "NGktezeVhwVJ",
        "outputId": "28e97788-13d7-46dd-b4d7-fc946c78e343"
      },
      "outputs": [
        {
          "name": "stdout",
          "output_type": "stream",
          "text": [
            "Do you want to play a game of Blackjack? Type 'y' for Yes and 'n' for No.y\n",
            "\n",
            "\n",
            "\n",
            "\n",
            "\n",
            "\n",
            "\n",
            "\n",
            "\n",
            "\n",
            "\n",
            "\n",
            "\n",
            "\n",
            "\n",
            "\n",
            "\n",
            "\n",
            "\n",
            "\n",
            "\n",
            "Your cards: [5, 10], current_score: 15\n",
            "Computer's card: 5\n",
            "Do you want to draw another card? Type 'y' for yes and 'n' for no.y\n",
            "Your cards: [5, 10, 3], current_score: 18\n",
            "Computer's card: 5\n",
            "Do you want to draw another card? Type 'y' for yes and 'n' for no.n\n",
            "Your final cards: [5, 10, 3] & your final score: 18 \n",
            "Computer final cards: [5, 10, 10] & computer's final score: 25 \n",
            "Dealer went over, User Wins!\n",
            "Do you want to play a game of Blackjack? Type 'y' for Yes and 'n' for No.n\n"
          ]
        }
      ],
      "source": [
        "import random\n",
        "#from art import logo\n",
        "def deal_card():\n",
        "    \"\"\"choose a random card from the card list\"\"\"\n",
        "    cards = [11, 2, 3, 4, 5, 6, 7, 8, 9, 10, 10, 10, 10]\n",
        "    random_card = random.choice(cards)\n",
        "    return random_card\n",
        "\n",
        "def calculate_score(card_list):\n",
        "    \"\"\"Take a list of card, apply the blackjack rules and calculate a score for user and dealer\"\"\"\n",
        "    if sum(card_list) == 21 and len(card_list) == 2:\n",
        "        return 0\n",
        "\n",
        "    if 11 in card_list and sum(card_list) > 21:\n",
        "        card_list.remove(11)\n",
        "        card_list.append(1)\n",
        "\n",
        "    return sum(card_list)\n",
        "\n",
        "def compare(u_score, c_score):\n",
        "    if u_score == c_score:\n",
        "        return \"Draw!\"\n",
        "    elif c_score == 0:\n",
        "        return \"User Lose, dealer has a blackjack\"\n",
        "    elif u_score == 0:\n",
        "        return \"User Wins with a blackjack\"\n",
        "    elif c_score > 21:\n",
        "        return \"Dealer went over, User Wins!\"\n",
        "    elif u_score > c_score:\n",
        "        return 'User Wins!'\n",
        "    else:\n",
        "        return \"User lose!\"\n",
        "\n",
        "\n",
        "\n",
        "def play_game():\n",
        "    #print(logo)\n",
        "    user_cards = []\n",
        "    computer_cards = []\n",
        "    computer_score = -1\n",
        "    user_score = -1\n",
        "\n",
        "    is_game_over = False\n",
        "\n",
        "    for _ in range(2):\n",
        "        \"\"\"Choose 2 random cards each for the user and the dealer(computer)\"\"\"\n",
        "        new_card = deal_card()\n",
        "        user_cards.append(new_card)\n",
        "        computer_cards.append(new_card)\n",
        "\n",
        "    while not is_game_over:\n",
        "        user_score = calculate_score(user_cards)\n",
        "        computer_score = calculate_score(computer_cards)\n",
        "        print(f\"Your cards: {user_cards}, current_score: {user_score}\")\n",
        "        print(f\"Computer's card: {computer_cards[0]}\")\n",
        "\n",
        "\n",
        "        if user_score == 0 or computer_score == 0 or user_score > 21:\n",
        "            is_game_over = True\n",
        "        else:\n",
        "            user_response = input(\"Do you want to draw another card? Type 'y' for yes and 'n' for no.\").lower()\n",
        "            if user_response =='y':\n",
        "                user_cards.append(deal_card())\n",
        "            else:\n",
        "                is_game_over = True\n",
        "\n",
        "    while computer_score !=0 and computer_score < 17:\n",
        "        computer_cards.append(deal_card())\n",
        "        computer_score = calculate_score(computer_cards)\n",
        "\n",
        "    print(f\"Your final cards: {user_cards} & your final score: {user_score} \")\n",
        "    print(f\"Computer final cards: {computer_cards} & computer's final score: {computer_score} \")\n",
        "    print(compare(user_score,computer_score))\n",
        "\n",
        "\n",
        "\n",
        "while input(\"Do you want to play a game of Blackjack? Type 'y' for Yes and 'n' for No.\") == 'y':\n",
        "    print('\\n' * 20)\n",
        "    play_game()\n"
      ]
    }
  ]
}