{
  "nbformat": 4,
  "nbformat_minor": 0,
  "metadata": {
    "colab": {
      "provenance": [],
      "authorship_tag": "ABX9TyO2rz8dfRcMUbAWlcg0AJgf",
      "include_colab_link": true
    },
    "kernelspec": {
      "name": "python3",
      "display_name": "Python 3"
    },
    "language_info": {
      "name": "python"
    }
  },
  "cells": [
    {
      "cell_type": "markdown",
      "metadata": {
        "id": "view-in-github",
        "colab_type": "text"
      },
      "source": [
        "<a href=\"https://colab.research.google.com/github/namratabiswas/100DaysOfPython/blob/main/Number_Guessing_Game.ipynb\" target=\"_parent\"><img src=\"https://colab.research.google.com/assets/colab-badge.svg\" alt=\"Open In Colab\"/></a>"
      ]
    },
    {
      "cell_type": "code",
      "execution_count": 7,
      "metadata": {
        "colab": {
          "base_uri": "https://localhost:8080/"
        },
        "id": "iTDffU9TIfYa",
        "outputId": "47c48f7d-d1ec-42c0-ee60-b8b5e82575b9"
      },
      "outputs": [
        {
          "output_type": "stream",
          "name": "stdout",
          "text": [
            "Welcome to the number guessing game\n",
            "I am thinking of a number between 1 and 100\n",
            "The correct answer is 8\n",
            "Choose a difficulty: easy or hard: hard\n",
            "Make a guess: 12\n",
            "Too High. Make another guess.\n",
            "You have 4 attempts to guess the number\n",
            "Make a guess: 12\n",
            "Too High. Make another guess.\n",
            "You have 3 attempts to guess the number\n",
            "Make a guess: 12\n",
            "Too High. Make another guess.\n",
            "You have 2 attempts to guess the number\n",
            "Make a guess: 12\n",
            "Too High. Make another guess.\n",
            "You have 1 attempts to guess the number\n",
            "Make a guess: 12\n",
            "Too High. Make another guess.\n",
            "You are out of turns, you lose!\n"
          ]
        }
      ],
      "source": [
        "# Choose a random number between 1 and 100\n",
        "from os import times\n",
        "import random\n",
        "\n",
        "EASY_LEVEL_TURNS = 10\n",
        "HARD_LEVEL_TURNS = 5\n",
        "#Function to check/compare user's guess to the actual answer\n",
        "\n",
        "def compare(user_guess, actual_number,turns):\n",
        "  if user_guess != actual_number and user_guess < actual_number:\n",
        "    print(\"Too low. make another guess\")\n",
        "    return turns - 1\n",
        "  elif user_guess != actual_number and user_guess > actual_number:\n",
        "    print(\"Too High. Make another guess.\")\n",
        "    return turns - 1\n",
        "  else:\n",
        "    print(f\"You got it!!\")\n",
        "\n",
        "#Function to set the difficulty level\n",
        "def difficulty():\n",
        "  level = input(\"Choose a difficulty: easy or hard: \").lower()\n",
        "  if level == 'easy':\n",
        "    return EASY_LEVEL_TURNS\n",
        "  else:\n",
        "    return HARD_LEVEL_TURNS\n",
        "\n",
        "\n",
        "print(\"Welcome to the number guessing game\")\n",
        "\n",
        "def game():\n",
        "   print(\"I am thinking of a number between 1 and 100\")\n",
        "\n",
        "   answer = random.randint(1,100)\n",
        "   print(f\"The correct answer is {answer}\")\n",
        "#print(answer)\n",
        "\n",
        "   turns = difficulty()\n",
        "\n",
        "\n",
        "   user_input = 0\n",
        "   while user_input != answer:\n",
        "\n",
        "#Let the user guess a number\n",
        "     user_input = int(input(\"Make a guess: \"))\n",
        "\n",
        "#call the compare function\n",
        "#Repeat the guessing functionality if they guess the wrong answer\n",
        "     turns = compare(user_input, answer, turns)\n",
        "     if turns == 0:\n",
        "      print(\"You are out of turns, you lose!\")\n",
        "      return\n",
        "     print(f\"You have {turns} attempts to guess the number\")\n",
        "\n",
        "\n",
        "\n",
        "game()\n"
      ]
    }
  ]
}