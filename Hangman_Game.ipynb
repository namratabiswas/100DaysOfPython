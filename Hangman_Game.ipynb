{
  "nbformat": 4,
  "nbformat_minor": 0,
  "metadata": {
    "colab": {
      "provenance": [],
      "authorship_tag": "ABX9TyOTUBc5juVSwFPoHUikYYvU",
      "include_colab_link": true
    },
    "kernelspec": {
      "name": "python3",
      "display_name": "Python 3"
    },
    "language_info": {
      "name": "python"
    }
  },
  "cells": [
    {
      "cell_type": "markdown",
      "metadata": {
        "id": "view-in-github",
        "colab_type": "text"
      },
      "source": [
        "<a href=\"https://colab.research.google.com/github/namratabiswas/100DaysOfPython/blob/main/Hangman_Game.ipynb\" target=\"_parent\"><img src=\"https://colab.research.google.com/assets/colab-badge.svg\" alt=\"Open In Colab\"/></a>"
      ]
    },
    {
      "cell_type": "code",
      "execution_count": 3,
      "metadata": {
        "colab": {
          "base_uri": "https://localhost:8080/"
        },
        "id": "lYeWWiAOgHJn",
        "outputId": "384d946b-0cd3-4d58-a737-9318892c9ca1"
      },
      "outputs": [
        {
          "output_type": "stream",
          "name": "stdout",
          "text": [
            "camel\n",
            "Word to guess: _____\n",
            "****************************6/6 LIVES LEFT****************************\n",
            "Guess a letter: a\n",
            "Word to guess: _a___\n",
            "****************************6/6 LIVES LEFT****************************\n",
            "Guess a letter: e\n",
            "Word to guess: _a_e_\n",
            "****************************6/6 LIVES LEFT****************************\n",
            "Guess a letter: d\n",
            "Word to guess: _a_e_\n",
            "You guessed d, that's not in the word. You lose a life.\n",
            "****************************5/6 LIVES LEFT****************************\n",
            "Guess a letter: r\n",
            "Word to guess: _a_e_\n",
            "You guessed r, that's not in the word. You lose a life.\n",
            "****************************4/6 LIVES LEFT****************************\n",
            "Guess a letter: g\n",
            "Word to guess: _a_e_\n",
            "You guessed g, that's not in the word. You lose a life.\n",
            "****************************3/6 LIVES LEFT****************************\n",
            "Guess a letter: t\n",
            "Word to guess: _a_e_\n",
            "You guessed t, that's not in the word. You lose a life.\n",
            "****************************2/6 LIVES LEFT****************************\n",
            "Guess a letter: y\n",
            "Word to guess: _a_e_\n",
            "You guessed y, that's not in the word. You lose a life.\n",
            "****************************1/6 LIVES LEFT****************************\n",
            "Guess a letter: q\n",
            "Word to guess: _a_e_\n",
            "You guessed q, that's not in the word. You lose a life.\n",
            "***********************IT WAS camel! YOU LOSE**********************\n"
          ]
        }
      ],
      "source": [
        "import random\n",
        "\n",
        "#from hangman_words import word_list\n",
        "#from hangman_art import stages, logo\n",
        "\n",
        "word_list = ['aardvark','baboon','camel']\n",
        "lives = 6\n",
        "\n",
        "#print(logo)\n",
        "\n",
        "chosen_word = random.choice(word_list)\n",
        "#print(chosen_word)\n",
        "\n",
        "placeholder = \"\"\n",
        "word_length = len(chosen_word)\n",
        "for position in range(word_length):\n",
        "    placeholder += \"_\"\n",
        "print(\"Word to guess: \" + placeholder)\n",
        "\n",
        "game_over = False\n",
        "correct_letters = []\n",
        "\n",
        "while not game_over:\n",
        "\n",
        "    print(f\"****************************{lives}/6 LIVES LEFT****************************\")\n",
        "    guess = input(\"Guess a letter: \").lower()\n",
        "\n",
        "    if guess in correct_letters:\n",
        "        print(f\"You've already guessed {guess}\")\n",
        "\n",
        "    display = \"\"\n",
        "\n",
        "    for letter in chosen_word:\n",
        "        if letter == guess:\n",
        "            display += letter\n",
        "            correct_letters.append(guess)\n",
        "        elif letter in correct_letters:\n",
        "            display += letter\n",
        "        else:\n",
        "            display += \"_\"\n",
        "\n",
        "    print(\"Word to guess: \" + display)\n",
        "\n",
        "    if guess not in chosen_word:\n",
        "        lives -= 1\n",
        "        print(f\"You guessed {guess}, that's not in the word. You lose a life.\")\n",
        "\n",
        "        if lives == 0:\n",
        "            game_over = True\n",
        "\n",
        "            print(f\"***********************IT WAS {chosen_word}! YOU LOSE**********************\")\n",
        "\n",
        "    if \"_\" not in display:\n",
        "        game_over = True\n",
        "        print(\"****************************YOU WIN****************************\")\n",
        "\n",
        "    #print(stages[lives])"
      ]
    }
  ]
}